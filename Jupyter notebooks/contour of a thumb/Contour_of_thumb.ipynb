{
 "cells": [
  {
   "cell_type": "code",
   "execution_count": null,
   "id": "dfa40f09-c04c-4684-8c7d-97362d7ded6f",
   "metadata": {},
   "outputs": [],
   "source": [
    "#ref:https://stackoverflow.com/questions/45095734/python-finding-contours-of-different-colors-on-an-image\n",
    "import numpy as np\n",
    "import cv2\n",
    "\n",
    "im = cv2.imread('thumb_image.jpg')\n",
    "\n",
    "imgray = cv2.cvtColor(im,cv2.COLOR_BGR2GRAY)\n",
    "ret,thresh = cv2.threshold(imgray,200,255,0)\n",
    "ret, thresh2 = cv2.threshold(imgray,130,255,0)\n",
    "contours, hierarchy = cv2.findContours(thresh,cv2.RETR_TREE,cv2.CHAIN_APPROX_SIMPLE)\n",
    "contours2, hierarchy2 = cv2.findContours(thresh2,cv2.RETR_TREE,cv2.CHAIN_APPROX_SIMPLE)\n",
    "\n",
    "cv2.drawContours(im,contours,-1,(0,0,255),1)\n",
    "cv2.drawContours(im,contours2,-1,(0,255,0),1)\n",
    "\n",
    "#(B,G,R)\n",
    "\n",
    "cv2.imshow('image',im)\n",
    "cv2.waitKey(0)\n",
    "cv2.destroyAllWindows()"
   ]
  },
  {
   "cell_type": "code",
   "execution_count": null,
   "id": "545b5397-8688-4519-b4d9-2a90a4411894",
   "metadata": {},
   "outputs": [],
   "source": [
    "pip install opencv_python"
   ]
  },
  {
   "cell_type": "code",
   "execution_count": null,
   "id": "ba050c4f-67c5-4b21-9d3a-ab517a12608a",
   "metadata": {},
   "outputs": [],
   "source": []
  }
 ],
 "metadata": {
  "kernelspec": {
   "display_name": "Python 3 (ipykernel)",
   "language": "python",
   "name": "python3"
  },
  "language_info": {
   "name": ""
  }
 },
 "nbformat": 4,
 "nbformat_minor": 5
}
