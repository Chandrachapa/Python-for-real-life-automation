{
 "cells": [
  {
   "cell_type": "code",
   "execution_count": null,
   "id": "9e5fd658-5687-4a0e-bade-d052f053075a",
   "metadata": {},
   "outputs": [],
   "source": [
    "#ref:https://stackoverflow.com/questions/45095734/python-finding-contours-of-different-colors-on-an-image\n",
    "import numpy as np\n",
    "import cv2\n",
    "\n",
    "im = cv2.imread('thumb_image.jpg')\n",
    "\n",
    "imgray = cv2.cvtColor(im,cv2.COLOR_BGR2GRAY)\n",
    "ret,thresh = cv2.threshold(imgray,200,255,0)\n",
    "ret, thresh2 = cv2.threshold(imgray,130,255,0)\n",
    "contours, hierarchy = cv2.findContours(thresh,cv2.RETR_TREE,cv2.CHAIN_APPROX_SIMPLE)\n",
    "contours2, hierarchy2 = cv2.findContours(thresh2,cv2.RETR_TREE,cv2.CHAIN_APPROX_SIMPLE)\n",
    "\n",
    "cv2.drawContours(im,contours,-1,(0,0,255),1)\n",
    "cv2.drawContours(im,contours2,-1,(0,255,0),1)\n",
    "\n",
    "#(B,G,R)\n",
    "\n",
    "cv2.imshow('image',im)\n",
    "cv2.waitKey(0)\n",
    "cv2.destroyAllWindows()"
   ]
  },
  {
   "cell_type": "code",
   "execution_count": null,
   "id": "0f93eb46-4f48-4cbe-b61d-8a3b5ddd21ce",
   "metadata": {},
   "outputs": [],
   "source": [
    "pip install opencv_python"
   ]
  }
 ],
 "metadata": {
  "kernelspec": {
   "display_name": "Python 3 (ipykernel)",
   "language": "python",
   "name": "python3"
  },
  "language_info": {
   "codemirror_mode": {
    "name": "ipython",
    "version": 3
   },
   "file_extension": ".py",
   "mimetype": "text/x-python",
   "name": "python",
   "nbconvert_exporter": "python",
   "pygments_lexer": "ipython3",
   "version": "3.9.7"
  }
 },
 "nbformat": 4,
 "nbformat_minor": 5
}
